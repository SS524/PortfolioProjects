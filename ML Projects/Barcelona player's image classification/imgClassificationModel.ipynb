{
 "cells": [
  {
   "cell_type": "code",
   "execution_count": 98,
   "id": "bea59f0c",
   "metadata": {},
   "outputs": [],
   "source": [
    "import numpy as np\n",
    "import pywt\n",
    "import cv2   "
   ]
  },
  {
   "cell_type": "code",
   "execution_count": 99,
   "id": "c66c3c50",
   "metadata": {},
   "outputs": [],
   "source": [
    "def w2d(img, mode='haar', level=1):\n",
    "    imArray = img\n",
    "    #Datatype conversions\n",
    "    #convert to grayscale\n",
    "    imArray = cv2.cvtColor( imArray,cv2.COLOR_RGB2GRAY )\n",
    "    #convert to float\n",
    "    imArray =  np.float32(imArray)   \n",
    "    imArray /= 255;\n",
    "    # compute coefficients \n",
    "    coeffs=pywt.wavedec2(imArray, mode, level=level)\n",
    "\n",
    "    #Process Coefficients\n",
    "    coeffs_H=list(coeffs)  \n",
    "    coeffs_H[0] *= 0;  \n",
    "\n",
    "    # reconstruction\n",
    "    imArray_H=pywt.waverec2(coeffs_H, mode);\n",
    "    imArray_H *= 255;\n",
    "    imArray_H =  np.uint8(imArray_H)\n",
    "\n",
    "    return imArray_H"
   ]
  },
  {
   "cell_type": "code",
   "execution_count": 100,
   "id": "64e22e49",
   "metadata": {},
   "outputs": [],
   "source": [
    "path_to_data = \"./dataset/\"\n",
    "path_to_cr_data = \"./dataset/cropped/\""
   ]
  },
  {
   "cell_type": "code",
   "execution_count": 101,
   "id": "0b2ca1b0",
   "metadata": {},
   "outputs": [],
   "source": [
    "import os\n",
    "img_dirs = []\n",
    "for entry in os.scandir(path_to_cr_data):\n",
    "    if entry.is_dir():\n",
    "        img_dirs.append(entry.path)"
   ]
  },
  {
   "cell_type": "code",
   "execution_count": 102,
   "id": "7893893b",
   "metadata": {},
   "outputs": [
    {
     "data": {
      "text/plain": [
       "['./dataset/cropped/andreas_christensen',\n",
       " './dataset/cropped/jules_kounde',\n",
       " './dataset/cropped/marc_andre_ter_stegen',\n",
       " './dataset/cropped/robert_lewandowski',\n",
       " './dataset/cropped/sergio_busquets']"
      ]
     },
     "execution_count": 102,
     "metadata": {},
     "output_type": "execute_result"
    }
   ],
   "source": [
    "img_dirs"
   ]
  },
  {
   "cell_type": "code",
   "execution_count": 103,
   "id": "5b7d1cae",
   "metadata": {},
   "outputs": [],
   "source": [
    "celebrity_file_names_dict = {}\n",
    "for img_dir in img_dirs:\n",
    "    celebrity_name = img_dir.split('/')[-1]\n",
    "    celebrity_file_names_dict[celebrity_name] = []\n",
    "    for entry in os.scandir(img_dir):\n",
    "            celebrity_file_names_dict[celebrity_name].append(entry.path)\n",
    "            "
   ]
  },
  {
   "cell_type": "code",
   "execution_count": 104,
   "id": "2357f6e1",
   "metadata": {},
   "outputs": [
    {
     "data": {
      "text/plain": [
       "{'andreas_christensen': ['./dataset/cropped/andreas_christensen\\\\andreas_christensen1.png',\n",
       "  './dataset/cropped/andreas_christensen\\\\andreas_christensen10.png',\n",
       "  './dataset/cropped/andreas_christensen\\\\andreas_christensen11.png',\n",
       "  './dataset/cropped/andreas_christensen\\\\andreas_christensen12.png',\n",
       "  './dataset/cropped/andreas_christensen\\\\andreas_christensen13.png',\n",
       "  './dataset/cropped/andreas_christensen\\\\andreas_christensen14.png',\n",
       "  './dataset/cropped/andreas_christensen\\\\andreas_christensen15.png',\n",
       "  './dataset/cropped/andreas_christensen\\\\andreas_christensen16.png',\n",
       "  './dataset/cropped/andreas_christensen\\\\andreas_christensen17.png',\n",
       "  './dataset/cropped/andreas_christensen\\\\andreas_christensen18.png',\n",
       "  './dataset/cropped/andreas_christensen\\\\andreas_christensen19.png',\n",
       "  './dataset/cropped/andreas_christensen\\\\andreas_christensen2.png',\n",
       "  './dataset/cropped/andreas_christensen\\\\andreas_christensen20.png',\n",
       "  './dataset/cropped/andreas_christensen\\\\andreas_christensen21.png',\n",
       "  './dataset/cropped/andreas_christensen\\\\andreas_christensen22.png',\n",
       "  './dataset/cropped/andreas_christensen\\\\andreas_christensen23.png',\n",
       "  './dataset/cropped/andreas_christensen\\\\andreas_christensen24.png',\n",
       "  './dataset/cropped/andreas_christensen\\\\andreas_christensen25.png',\n",
       "  './dataset/cropped/andreas_christensen\\\\andreas_christensen26.png',\n",
       "  './dataset/cropped/andreas_christensen\\\\andreas_christensen27.png',\n",
       "  './dataset/cropped/andreas_christensen\\\\andreas_christensen28.png',\n",
       "  './dataset/cropped/andreas_christensen\\\\andreas_christensen29.png',\n",
       "  './dataset/cropped/andreas_christensen\\\\andreas_christensen3.png',\n",
       "  './dataset/cropped/andreas_christensen\\\\andreas_christensen30.png',\n",
       "  './dataset/cropped/andreas_christensen\\\\andreas_christensen31.png',\n",
       "  './dataset/cropped/andreas_christensen\\\\andreas_christensen32.png',\n",
       "  './dataset/cropped/andreas_christensen\\\\andreas_christensen33.png',\n",
       "  './dataset/cropped/andreas_christensen\\\\andreas_christensen34.png',\n",
       "  './dataset/cropped/andreas_christensen\\\\andreas_christensen35.png',\n",
       "  './dataset/cropped/andreas_christensen\\\\andreas_christensen36.png',\n",
       "  './dataset/cropped/andreas_christensen\\\\andreas_christensen37.png',\n",
       "  './dataset/cropped/andreas_christensen\\\\andreas_christensen38.png',\n",
       "  './dataset/cropped/andreas_christensen\\\\andreas_christensen4.png',\n",
       "  './dataset/cropped/andreas_christensen\\\\andreas_christensen40.png',\n",
       "  './dataset/cropped/andreas_christensen\\\\andreas_christensen41.png',\n",
       "  './dataset/cropped/andreas_christensen\\\\andreas_christensen42.png',\n",
       "  './dataset/cropped/andreas_christensen\\\\andreas_christensen43.png',\n",
       "  './dataset/cropped/andreas_christensen\\\\andreas_christensen44.png',\n",
       "  './dataset/cropped/andreas_christensen\\\\andreas_christensen45.png',\n",
       "  './dataset/cropped/andreas_christensen\\\\andreas_christensen46.png',\n",
       "  './dataset/cropped/andreas_christensen\\\\andreas_christensen47.png',\n",
       "  './dataset/cropped/andreas_christensen\\\\andreas_christensen49.png',\n",
       "  './dataset/cropped/andreas_christensen\\\\andreas_christensen5.png',\n",
       "  './dataset/cropped/andreas_christensen\\\\andreas_christensen50.png',\n",
       "  './dataset/cropped/andreas_christensen\\\\andreas_christensen51.png',\n",
       "  './dataset/cropped/andreas_christensen\\\\andreas_christensen52.png',\n",
       "  './dataset/cropped/andreas_christensen\\\\andreas_christensen53.png',\n",
       "  './dataset/cropped/andreas_christensen\\\\andreas_christensen54.png',\n",
       "  './dataset/cropped/andreas_christensen\\\\andreas_christensen55.png',\n",
       "  './dataset/cropped/andreas_christensen\\\\andreas_christensen56.png',\n",
       "  './dataset/cropped/andreas_christensen\\\\andreas_christensen6.png',\n",
       "  './dataset/cropped/andreas_christensen\\\\andreas_christensen7.png',\n",
       "  './dataset/cropped/andreas_christensen\\\\andreas_christensen8.png',\n",
       "  './dataset/cropped/andreas_christensen\\\\andreas_christensen9.png'],\n",
       " 'jules_kounde': ['./dataset/cropped/jules_kounde\\\\jules_kounde1.png',\n",
       "  './dataset/cropped/jules_kounde\\\\jules_kounde10.png',\n",
       "  './dataset/cropped/jules_kounde\\\\jules_kounde11.png',\n",
       "  './dataset/cropped/jules_kounde\\\\jules_kounde12.png',\n",
       "  './dataset/cropped/jules_kounde\\\\jules_kounde13.png',\n",
       "  './dataset/cropped/jules_kounde\\\\jules_kounde14.png',\n",
       "  './dataset/cropped/jules_kounde\\\\jules_kounde15.png',\n",
       "  './dataset/cropped/jules_kounde\\\\jules_kounde16.png',\n",
       "  './dataset/cropped/jules_kounde\\\\jules_kounde17.png',\n",
       "  './dataset/cropped/jules_kounde\\\\jules_kounde18.png',\n",
       "  './dataset/cropped/jules_kounde\\\\jules_kounde19.png',\n",
       "  './dataset/cropped/jules_kounde\\\\jules_kounde2.png',\n",
       "  './dataset/cropped/jules_kounde\\\\jules_kounde20.png',\n",
       "  './dataset/cropped/jules_kounde\\\\jules_kounde21.png',\n",
       "  './dataset/cropped/jules_kounde\\\\jules_kounde22.png',\n",
       "  './dataset/cropped/jules_kounde\\\\jules_kounde23.png',\n",
       "  './dataset/cropped/jules_kounde\\\\jules_kounde24.png',\n",
       "  './dataset/cropped/jules_kounde\\\\jules_kounde26.png',\n",
       "  './dataset/cropped/jules_kounde\\\\jules_kounde27.png',\n",
       "  './dataset/cropped/jules_kounde\\\\jules_kounde28.png',\n",
       "  './dataset/cropped/jules_kounde\\\\jules_kounde29.png',\n",
       "  './dataset/cropped/jules_kounde\\\\jules_kounde3.png',\n",
       "  './dataset/cropped/jules_kounde\\\\jules_kounde30.png',\n",
       "  './dataset/cropped/jules_kounde\\\\jules_kounde31.png',\n",
       "  './dataset/cropped/jules_kounde\\\\jules_kounde32.png',\n",
       "  './dataset/cropped/jules_kounde\\\\jules_kounde33.png',\n",
       "  './dataset/cropped/jules_kounde\\\\jules_kounde34.png',\n",
       "  './dataset/cropped/jules_kounde\\\\jules_kounde35.png',\n",
       "  './dataset/cropped/jules_kounde\\\\jules_kounde36.png',\n",
       "  './dataset/cropped/jules_kounde\\\\jules_kounde37.png',\n",
       "  './dataset/cropped/jules_kounde\\\\jules_kounde39.png',\n",
       "  './dataset/cropped/jules_kounde\\\\jules_kounde40.png',\n",
       "  './dataset/cropped/jules_kounde\\\\jules_kounde41.png',\n",
       "  './dataset/cropped/jules_kounde\\\\jules_kounde42.png',\n",
       "  './dataset/cropped/jules_kounde\\\\jules_kounde43.png',\n",
       "  './dataset/cropped/jules_kounde\\\\jules_kounde44.png',\n",
       "  './dataset/cropped/jules_kounde\\\\jules_kounde45.png',\n",
       "  './dataset/cropped/jules_kounde\\\\jules_kounde46.png',\n",
       "  './dataset/cropped/jules_kounde\\\\jules_kounde47.png',\n",
       "  './dataset/cropped/jules_kounde\\\\jules_kounde48.png',\n",
       "  './dataset/cropped/jules_kounde\\\\jules_kounde5.png',\n",
       "  './dataset/cropped/jules_kounde\\\\jules_kounde50.png',\n",
       "  './dataset/cropped/jules_kounde\\\\jules_kounde51.png',\n",
       "  './dataset/cropped/jules_kounde\\\\jules_kounde53.png',\n",
       "  './dataset/cropped/jules_kounde\\\\jules_kounde54.png',\n",
       "  './dataset/cropped/jules_kounde\\\\jules_kounde55.png',\n",
       "  './dataset/cropped/jules_kounde\\\\jules_kounde56.png',\n",
       "  './dataset/cropped/jules_kounde\\\\jules_kounde57.png',\n",
       "  './dataset/cropped/jules_kounde\\\\jules_kounde6.png',\n",
       "  './dataset/cropped/jules_kounde\\\\jules_kounde7.png',\n",
       "  './dataset/cropped/jules_kounde\\\\jules_kounde8.png',\n",
       "  './dataset/cropped/jules_kounde\\\\jules_kounde9.png'],\n",
       " 'marc_andre_ter_stegen': ['./dataset/cropped/marc_andre_ter_stegen\\\\marc_andre_ter_stegen10.png',\n",
       "  './dataset/cropped/marc_andre_ter_stegen\\\\marc_andre_ter_stegen11.png',\n",
       "  './dataset/cropped/marc_andre_ter_stegen\\\\marc_andre_ter_stegen12.png',\n",
       "  './dataset/cropped/marc_andre_ter_stegen\\\\marc_andre_ter_stegen14.png',\n",
       "  './dataset/cropped/marc_andre_ter_stegen\\\\marc_andre_ter_stegen15.png',\n",
       "  './dataset/cropped/marc_andre_ter_stegen\\\\marc_andre_ter_stegen16.png',\n",
       "  './dataset/cropped/marc_andre_ter_stegen\\\\marc_andre_ter_stegen17.png',\n",
       "  './dataset/cropped/marc_andre_ter_stegen\\\\marc_andre_ter_stegen18.png',\n",
       "  './dataset/cropped/marc_andre_ter_stegen\\\\marc_andre_ter_stegen19.png',\n",
       "  './dataset/cropped/marc_andre_ter_stegen\\\\marc_andre_ter_stegen2.png',\n",
       "  './dataset/cropped/marc_andre_ter_stegen\\\\marc_andre_ter_stegen20.png',\n",
       "  './dataset/cropped/marc_andre_ter_stegen\\\\marc_andre_ter_stegen21.png',\n",
       "  './dataset/cropped/marc_andre_ter_stegen\\\\marc_andre_ter_stegen22.png',\n",
       "  './dataset/cropped/marc_andre_ter_stegen\\\\marc_andre_ter_stegen23.png',\n",
       "  './dataset/cropped/marc_andre_ter_stegen\\\\marc_andre_ter_stegen24.png',\n",
       "  './dataset/cropped/marc_andre_ter_stegen\\\\marc_andre_ter_stegen25.png',\n",
       "  './dataset/cropped/marc_andre_ter_stegen\\\\marc_andre_ter_stegen26.png',\n",
       "  './dataset/cropped/marc_andre_ter_stegen\\\\marc_andre_ter_stegen27.png',\n",
       "  './dataset/cropped/marc_andre_ter_stegen\\\\marc_andre_ter_stegen28.png',\n",
       "  './dataset/cropped/marc_andre_ter_stegen\\\\marc_andre_ter_stegen29.png',\n",
       "  './dataset/cropped/marc_andre_ter_stegen\\\\marc_andre_ter_stegen3.png',\n",
       "  './dataset/cropped/marc_andre_ter_stegen\\\\marc_andre_ter_stegen30.png',\n",
       "  './dataset/cropped/marc_andre_ter_stegen\\\\marc_andre_ter_stegen31.png',\n",
       "  './dataset/cropped/marc_andre_ter_stegen\\\\marc_andre_ter_stegen32.png',\n",
       "  './dataset/cropped/marc_andre_ter_stegen\\\\marc_andre_ter_stegen33.png',\n",
       "  './dataset/cropped/marc_andre_ter_stegen\\\\marc_andre_ter_stegen34.png',\n",
       "  './dataset/cropped/marc_andre_ter_stegen\\\\marc_andre_ter_stegen35.png',\n",
       "  './dataset/cropped/marc_andre_ter_stegen\\\\marc_andre_ter_stegen36.png',\n",
       "  './dataset/cropped/marc_andre_ter_stegen\\\\marc_andre_ter_stegen37.png',\n",
       "  './dataset/cropped/marc_andre_ter_stegen\\\\marc_andre_ter_stegen38.png',\n",
       "  './dataset/cropped/marc_andre_ter_stegen\\\\marc_andre_ter_stegen39.png',\n",
       "  './dataset/cropped/marc_andre_ter_stegen\\\\marc_andre_ter_stegen4.png',\n",
       "  './dataset/cropped/marc_andre_ter_stegen\\\\marc_andre_ter_stegen41.png',\n",
       "  './dataset/cropped/marc_andre_ter_stegen\\\\marc_andre_ter_stegen42.png',\n",
       "  './dataset/cropped/marc_andre_ter_stegen\\\\marc_andre_ter_stegen43.png',\n",
       "  './dataset/cropped/marc_andre_ter_stegen\\\\marc_andre_ter_stegen44.png',\n",
       "  './dataset/cropped/marc_andre_ter_stegen\\\\marc_andre_ter_stegen45.png',\n",
       "  './dataset/cropped/marc_andre_ter_stegen\\\\marc_andre_ter_stegen46.png',\n",
       "  './dataset/cropped/marc_andre_ter_stegen\\\\marc_andre_ter_stegen47.png',\n",
       "  './dataset/cropped/marc_andre_ter_stegen\\\\marc_andre_ter_stegen48.png',\n",
       "  './dataset/cropped/marc_andre_ter_stegen\\\\marc_andre_ter_stegen5.png',\n",
       "  './dataset/cropped/marc_andre_ter_stegen\\\\marc_andre_ter_stegen50.png',\n",
       "  './dataset/cropped/marc_andre_ter_stegen\\\\marc_andre_ter_stegen51.png',\n",
       "  './dataset/cropped/marc_andre_ter_stegen\\\\marc_andre_ter_stegen6.png',\n",
       "  './dataset/cropped/marc_andre_ter_stegen\\\\marc_andre_ter_stegen7.png',\n",
       "  './dataset/cropped/marc_andre_ter_stegen\\\\marc_andre_ter_stegen8.png',\n",
       "  './dataset/cropped/marc_andre_ter_stegen\\\\marc_andre_ter_stegen9.png'],\n",
       " 'robert_lewandowski': ['./dataset/cropped/robert_lewandowski\\\\robert_lewandowski1.png',\n",
       "  './dataset/cropped/robert_lewandowski\\\\robert_lewandowski10.png',\n",
       "  './dataset/cropped/robert_lewandowski\\\\robert_lewandowski11.png',\n",
       "  './dataset/cropped/robert_lewandowski\\\\robert_lewandowski12.png',\n",
       "  './dataset/cropped/robert_lewandowski\\\\robert_lewandowski13.png',\n",
       "  './dataset/cropped/robert_lewandowski\\\\robert_lewandowski14.png',\n",
       "  './dataset/cropped/robert_lewandowski\\\\robert_lewandowski15.png',\n",
       "  './dataset/cropped/robert_lewandowski\\\\robert_lewandowski16.png',\n",
       "  './dataset/cropped/robert_lewandowski\\\\robert_lewandowski17.png',\n",
       "  './dataset/cropped/robert_lewandowski\\\\robert_lewandowski2.png',\n",
       "  './dataset/cropped/robert_lewandowski\\\\robert_lewandowski20.png',\n",
       "  './dataset/cropped/robert_lewandowski\\\\robert_lewandowski21.png',\n",
       "  './dataset/cropped/robert_lewandowski\\\\robert_lewandowski22.png',\n",
       "  './dataset/cropped/robert_lewandowski\\\\robert_lewandowski23.png',\n",
       "  './dataset/cropped/robert_lewandowski\\\\robert_lewandowski24.png',\n",
       "  './dataset/cropped/robert_lewandowski\\\\robert_lewandowski25.png',\n",
       "  './dataset/cropped/robert_lewandowski\\\\robert_lewandowski26.png',\n",
       "  './dataset/cropped/robert_lewandowski\\\\robert_lewandowski27.png',\n",
       "  './dataset/cropped/robert_lewandowski\\\\robert_lewandowski28.png',\n",
       "  './dataset/cropped/robert_lewandowski\\\\robert_lewandowski29.png',\n",
       "  './dataset/cropped/robert_lewandowski\\\\robert_lewandowski3.png',\n",
       "  './dataset/cropped/robert_lewandowski\\\\robert_lewandowski30.png',\n",
       "  './dataset/cropped/robert_lewandowski\\\\robert_lewandowski31.png',\n",
       "  './dataset/cropped/robert_lewandowski\\\\robert_lewandowski32.png',\n",
       "  './dataset/cropped/robert_lewandowski\\\\robert_lewandowski33.png',\n",
       "  './dataset/cropped/robert_lewandowski\\\\robert_lewandowski34.png',\n",
       "  './dataset/cropped/robert_lewandowski\\\\robert_lewandowski35.png',\n",
       "  './dataset/cropped/robert_lewandowski\\\\robert_lewandowski36.png',\n",
       "  './dataset/cropped/robert_lewandowski\\\\robert_lewandowski37.png',\n",
       "  './dataset/cropped/robert_lewandowski\\\\robert_lewandowski38.png',\n",
       "  './dataset/cropped/robert_lewandowski\\\\robert_lewandowski39.png',\n",
       "  './dataset/cropped/robert_lewandowski\\\\robert_lewandowski4.png',\n",
       "  './dataset/cropped/robert_lewandowski\\\\robert_lewandowski40.png',\n",
       "  './dataset/cropped/robert_lewandowski\\\\robert_lewandowski41.png',\n",
       "  './dataset/cropped/robert_lewandowski\\\\robert_lewandowski42.png',\n",
       "  './dataset/cropped/robert_lewandowski\\\\robert_lewandowski43.png',\n",
       "  './dataset/cropped/robert_lewandowski\\\\robert_lewandowski44.png',\n",
       "  './dataset/cropped/robert_lewandowski\\\\robert_lewandowski45.png',\n",
       "  './dataset/cropped/robert_lewandowski\\\\robert_lewandowski46.png',\n",
       "  './dataset/cropped/robert_lewandowski\\\\robert_lewandowski47.png',\n",
       "  './dataset/cropped/robert_lewandowski\\\\robert_lewandowski48.png',\n",
       "  './dataset/cropped/robert_lewandowski\\\\robert_lewandowski49.png',\n",
       "  './dataset/cropped/robert_lewandowski\\\\robert_lewandowski5.png',\n",
       "  './dataset/cropped/robert_lewandowski\\\\robert_lewandowski50.png',\n",
       "  './dataset/cropped/robert_lewandowski\\\\robert_lewandowski51.png',\n",
       "  './dataset/cropped/robert_lewandowski\\\\robert_lewandowski52.png',\n",
       "  './dataset/cropped/robert_lewandowski\\\\robert_lewandowski53.png',\n",
       "  './dataset/cropped/robert_lewandowski\\\\robert_lewandowski54.png',\n",
       "  './dataset/cropped/robert_lewandowski\\\\robert_lewandowski6.png',\n",
       "  './dataset/cropped/robert_lewandowski\\\\robert_lewandowski7.png',\n",
       "  './dataset/cropped/robert_lewandowski\\\\robert_lewandowski8.png',\n",
       "  './dataset/cropped/robert_lewandowski\\\\robert_lewandowski9.png'],\n",
       " 'sergio_busquets': ['./dataset/cropped/sergio_busquets\\\\sergio_busquets1.png',\n",
       "  './dataset/cropped/sergio_busquets\\\\sergio_busquets10.png',\n",
       "  './dataset/cropped/sergio_busquets\\\\sergio_busquets11.png',\n",
       "  './dataset/cropped/sergio_busquets\\\\sergio_busquets12.png',\n",
       "  './dataset/cropped/sergio_busquets\\\\sergio_busquets13.png',\n",
       "  './dataset/cropped/sergio_busquets\\\\sergio_busquets14.png',\n",
       "  './dataset/cropped/sergio_busquets\\\\sergio_busquets15.png',\n",
       "  './dataset/cropped/sergio_busquets\\\\sergio_busquets17.png',\n",
       "  './dataset/cropped/sergio_busquets\\\\sergio_busquets18.png',\n",
       "  './dataset/cropped/sergio_busquets\\\\sergio_busquets19.png',\n",
       "  './dataset/cropped/sergio_busquets\\\\sergio_busquets2.png',\n",
       "  './dataset/cropped/sergio_busquets\\\\sergio_busquets20.png',\n",
       "  './dataset/cropped/sergio_busquets\\\\sergio_busquets21.png',\n",
       "  './dataset/cropped/sergio_busquets\\\\sergio_busquets22.png',\n",
       "  './dataset/cropped/sergio_busquets\\\\sergio_busquets23.png',\n",
       "  './dataset/cropped/sergio_busquets\\\\sergio_busquets24.png',\n",
       "  './dataset/cropped/sergio_busquets\\\\sergio_busquets25.png',\n",
       "  './dataset/cropped/sergio_busquets\\\\sergio_busquets26.png',\n",
       "  './dataset/cropped/sergio_busquets\\\\sergio_busquets3.png',\n",
       "  './dataset/cropped/sergio_busquets\\\\sergio_busquets30.png',\n",
       "  './dataset/cropped/sergio_busquets\\\\sergio_busquets31.png',\n",
       "  './dataset/cropped/sergio_busquets\\\\sergio_busquets32.png',\n",
       "  './dataset/cropped/sergio_busquets\\\\sergio_busquets33.png',\n",
       "  './dataset/cropped/sergio_busquets\\\\sergio_busquets34.png',\n",
       "  './dataset/cropped/sergio_busquets\\\\sergio_busquets35.png',\n",
       "  './dataset/cropped/sergio_busquets\\\\sergio_busquets36.png',\n",
       "  './dataset/cropped/sergio_busquets\\\\sergio_busquets37.png',\n",
       "  './dataset/cropped/sergio_busquets\\\\sergio_busquets38.png',\n",
       "  './dataset/cropped/sergio_busquets\\\\sergio_busquets39.png',\n",
       "  './dataset/cropped/sergio_busquets\\\\sergio_busquets40.png',\n",
       "  './dataset/cropped/sergio_busquets\\\\sergio_busquets41.png',\n",
       "  './dataset/cropped/sergio_busquets\\\\sergio_busquets42.png',\n",
       "  './dataset/cropped/sergio_busquets\\\\sergio_busquets43.png',\n",
       "  './dataset/cropped/sergio_busquets\\\\sergio_busquets44.png',\n",
       "  './dataset/cropped/sergio_busquets\\\\sergio_busquets45.png',\n",
       "  './dataset/cropped/sergio_busquets\\\\sergio_busquets46.png',\n",
       "  './dataset/cropped/sergio_busquets\\\\sergio_busquets47.png',\n",
       "  './dataset/cropped/sergio_busquets\\\\sergio_busquets48.png',\n",
       "  './dataset/cropped/sergio_busquets\\\\sergio_busquets49.png',\n",
       "  './dataset/cropped/sergio_busquets\\\\sergio_busquets5.png',\n",
       "  './dataset/cropped/sergio_busquets\\\\sergio_busquets50.png',\n",
       "  './dataset/cropped/sergio_busquets\\\\sergio_busquets51.png',\n",
       "  './dataset/cropped/sergio_busquets\\\\sergio_busquets52.png',\n",
       "  './dataset/cropped/sergio_busquets\\\\sergio_busquets53.png',\n",
       "  './dataset/cropped/sergio_busquets\\\\sergio_busquets54.png',\n",
       "  './dataset/cropped/sergio_busquets\\\\sergio_busquets55.png',\n",
       "  './dataset/cropped/sergio_busquets\\\\sergio_busquets56.png',\n",
       "  './dataset/cropped/sergio_busquets\\\\sergio_busquets57.png',\n",
       "  './dataset/cropped/sergio_busquets\\\\sergio_busquets58.png',\n",
       "  './dataset/cropped/sergio_busquets\\\\sergio_busquets59.png',\n",
       "  './dataset/cropped/sergio_busquets\\\\sergio_busquets6.png',\n",
       "  './dataset/cropped/sergio_busquets\\\\sergio_busquets60.png',\n",
       "  './dataset/cropped/sergio_busquets\\\\sergio_busquets7.png',\n",
       "  './dataset/cropped/sergio_busquets\\\\sergio_busquets8.png',\n",
       "  './dataset/cropped/sergio_busquets\\\\sergio_busquets9.png']}"
      ]
     },
     "execution_count": 104,
     "metadata": {},
     "output_type": "execute_result"
    }
   ],
   "source": [
    "celebrity_file_names_dict"
   ]
  },
  {
   "cell_type": "code",
   "execution_count": 105,
   "id": "d0931d51",
   "metadata": {},
   "outputs": [
    {
     "data": {
      "text/plain": [
       "{'andreas_christensen': 0,\n",
       " 'jules_kounde': 1,\n",
       " 'marc_andre_ter_stegen': 2,\n",
       " 'robert_lewandowski': 3,\n",
       " 'sergio_busquets': 4}"
      ]
     },
     "execution_count": 105,
     "metadata": {},
     "output_type": "execute_result"
    }
   ],
   "source": [
    "class_dict = {}\n",
    "count = 0\n",
    "for celebrity_name in celebrity_file_names_dict.keys():\n",
    "    class_dict[celebrity_name] = count\n",
    "    count = count + 1\n",
    "class_dict"
   ]
  },
  {
   "cell_type": "code",
   "execution_count": 106,
   "id": "b15c2421",
   "metadata": {},
   "outputs": [],
   "source": [
    "X, y = [], []\n",
    "for celebrity_name, training_files in celebrity_file_names_dict.items():\n",
    "    for training_image in training_files:\n",
    "        img = cv2.imread(training_image)\n",
    "        scalled_raw_img = cv2.resize(img, (32, 32))\n",
    "        img_har = w2d(img,'db1',5)\n",
    "        scalled_img_har = cv2.resize(img_har, (32, 32))\n",
    "        combined_img = np.vstack((scalled_raw_img.reshape(32*32*3,1),scalled_img_har.reshape(32*32,1)))\n",
    "        X.append(combined_img)\n",
    "        y.append(class_dict[celebrity_name])  "
   ]
  },
  {
   "cell_type": "code",
   "execution_count": 107,
   "id": "28432e6e",
   "metadata": {},
   "outputs": [
    {
     "data": {
      "text/plain": [
       "0"
      ]
     },
     "execution_count": 107,
     "metadata": {},
     "output_type": "execute_result"
    }
   ],
   "source": [
    "y[0]"
   ]
  },
  {
   "cell_type": "code",
   "execution_count": 108,
   "id": "665cdc91",
   "metadata": {},
   "outputs": [
    {
     "data": {
      "text/plain": [
       "(260, 4096)"
      ]
     },
     "execution_count": 108,
     "metadata": {},
     "output_type": "execute_result"
    }
   ],
   "source": [
    "X = np.array(X).reshape(len(X),4096).astype(float)\n",
    "X.shape"
   ]
  },
  {
   "cell_type": "code",
   "execution_count": 109,
   "id": "65924677",
   "metadata": {},
   "outputs": [],
   "source": [
    "\n",
    "from sklearn.svm import SVC\n",
    "from sklearn.preprocessing import StandardScaler\n",
    "from sklearn.model_selection import train_test_split\n",
    "from sklearn.pipeline import Pipeline\n",
    "from sklearn.metrics import classification_report"
   ]
  },
  {
   "cell_type": "code",
   "execution_count": 110,
   "id": "133ce6c5",
   "metadata": {},
   "outputs": [
    {
     "data": {
      "text/plain": [
       "0.8307692307692308"
      ]
     },
     "execution_count": 110,
     "metadata": {},
     "output_type": "execute_result"
    }
   ],
   "source": [
    "X_train, X_test, y_train, y_test = train_test_split(X, y, random_state=0)\n",
    "\n",
    "pipe = Pipeline([('scaler', StandardScaler()), ('svc', SVC(kernel = 'rbf', C = 10))])\n",
    "pipe.fit(X_train, y_train)\n",
    "pipe.score(X_test, y_test)"
   ]
  },
  {
   "cell_type": "code",
   "execution_count": 111,
   "id": "6405ef32",
   "metadata": {},
   "outputs": [
    {
     "name": "stdout",
     "output_type": "stream",
     "text": [
      "              precision    recall  f1-score   support\n",
      "\n",
      "           0       0.77      1.00      0.87        10\n",
      "           1       0.92      0.92      0.92        13\n",
      "           2       0.92      0.73      0.81        15\n",
      "           3       0.92      0.71      0.80        17\n",
      "           4       0.64      0.90      0.75        10\n",
      "\n",
      "    accuracy                           0.83        65\n",
      "   macro avg       0.83      0.85      0.83        65\n",
      "weighted avg       0.85      0.83      0.83        65\n",
      "\n"
     ]
    }
   ],
   "source": [
    "print(classification_report(y_test, pipe.predict(X_test)))"
   ]
  },
  {
   "cell_type": "code",
   "execution_count": 112,
   "id": "77b48277",
   "metadata": {},
   "outputs": [],
   "source": [
    "from sklearn.ensemble import RandomForestClassifier\n",
    "from sklearn.linear_model import LogisticRegression\n",
    "from sklearn.pipeline import make_pipeline\n",
    "from sklearn.model_selection import GridSearchCV"
   ]
  },
  {
   "cell_type": "code",
   "execution_count": 113,
   "id": "64f2b919",
   "metadata": {},
   "outputs": [],
   "source": [
    "model_params = {\n",
    "    'svm': {\n",
    "        'model': SVC(gamma='auto',probability=True),\n",
    "        'params' : {\n",
    "            'svc__C': [1,10,100,1000],\n",
    "            'svc__kernel': ['rbf','linear']\n",
    "        }  \n",
    "    },\n",
    "    'random_forest': {\n",
    "        'model': RandomForestClassifier(),\n",
    "        'params' : {\n",
    "            'randomforestclassifier__n_estimators': [1,5,10]\n",
    "        }\n",
    "    },\n",
    "    'logistic_regression' : {\n",
    "        'model': LogisticRegression(solver='liblinear',multi_class='auto'),\n",
    "        'params': {\n",
    "            'logisticregression__C': [1,5,10]\n",
    "        }\n",
    "    }\n",
    "}"
   ]
  },
  {
   "cell_type": "code",
   "execution_count": 114,
   "id": "298d030e",
   "metadata": {},
   "outputs": [
    {
     "data": {
      "text/html": [
       "<div>\n",
       "<style scoped>\n",
       "    .dataframe tbody tr th:only-of-type {\n",
       "        vertical-align: middle;\n",
       "    }\n",
       "\n",
       "    .dataframe tbody tr th {\n",
       "        vertical-align: top;\n",
       "    }\n",
       "\n",
       "    .dataframe thead th {\n",
       "        text-align: right;\n",
       "    }\n",
       "</style>\n",
       "<table border=\"1\" class=\"dataframe\">\n",
       "  <thead>\n",
       "    <tr style=\"text-align: right;\">\n",
       "      <th></th>\n",
       "      <th>model</th>\n",
       "      <th>best_score</th>\n",
       "      <th>best_params</th>\n",
       "    </tr>\n",
       "  </thead>\n",
       "  <tbody>\n",
       "    <tr>\n",
       "      <th>0</th>\n",
       "      <td>svm</td>\n",
       "      <td>0.774359</td>\n",
       "      <td>{'svc__C': 1, 'svc__kernel': 'linear'}</td>\n",
       "    </tr>\n",
       "    <tr>\n",
       "      <th>1</th>\n",
       "      <td>random_forest</td>\n",
       "      <td>0.620513</td>\n",
       "      <td>{'randomforestclassifier__n_estimators': 10}</td>\n",
       "    </tr>\n",
       "    <tr>\n",
       "      <th>2</th>\n",
       "      <td>logistic_regression</td>\n",
       "      <td>0.820513</td>\n",
       "      <td>{'logisticregression__C': 5}</td>\n",
       "    </tr>\n",
       "  </tbody>\n",
       "</table>\n",
       "</div>"
      ],
      "text/plain": [
       "                 model  best_score  \\\n",
       "0                  svm    0.774359   \n",
       "1        random_forest    0.620513   \n",
       "2  logistic_regression    0.820513   \n",
       "\n",
       "                                    best_params  \n",
       "0        {'svc__C': 1, 'svc__kernel': 'linear'}  \n",
       "1  {'randomforestclassifier__n_estimators': 10}  \n",
       "2                  {'logisticregression__C': 5}  "
      ]
     },
     "execution_count": 114,
     "metadata": {},
     "output_type": "execute_result"
    }
   ],
   "source": [
    "\n",
    "scores = []\n",
    "best_estimators = {}\n",
    "import pandas as pd\n",
    "for algo, mp in model_params.items():\n",
    "    pipe = make_pipeline(StandardScaler(), mp['model'])\n",
    "    clf =  GridSearchCV(pipe, mp['params'], cv=5, return_train_score=False)\n",
    "    clf.fit(X_train, y_train)\n",
    "    scores.append({\n",
    "        'model': algo,\n",
    "        'best_score': clf.best_score_,\n",
    "        'best_params': clf.best_params_\n",
    "    })\n",
    "    best_estimators[algo] = clf.best_estimator_\n",
    "    \n",
    "df = pd.DataFrame(scores,columns=['model','best_score','best_params'])\n",
    "df\n"
   ]
  },
  {
   "cell_type": "code",
   "execution_count": 115,
   "id": "06d39f39",
   "metadata": {},
   "outputs": [
    {
     "data": {
      "text/plain": [
       "{'svm': Pipeline(steps=[('standardscaler', StandardScaler()),\n",
       "                 ('svc',\n",
       "                  SVC(C=1, gamma='auto', kernel='linear', probability=True))]),\n",
       " 'random_forest': Pipeline(steps=[('standardscaler', StandardScaler()),\n",
       "                 ('randomforestclassifier',\n",
       "                  RandomForestClassifier(n_estimators=10))]),\n",
       " 'logistic_regression': Pipeline(steps=[('standardscaler', StandardScaler()),\n",
       "                 ('logisticregression',\n",
       "                  LogisticRegression(C=5, solver='liblinear'))])}"
      ]
     },
     "execution_count": 115,
     "metadata": {},
     "output_type": "execute_result"
    }
   ],
   "source": [
    "best_estimators"
   ]
  },
  {
   "cell_type": "code",
   "execution_count": 116,
   "id": "92516a9d",
   "metadata": {},
   "outputs": [
    {
     "data": {
      "text/plain": [
       "0.8461538461538461"
      ]
     },
     "execution_count": 116,
     "metadata": {},
     "output_type": "execute_result"
    }
   ],
   "source": [
    "best_estimators['svm'].score(X_test,y_test)"
   ]
  },
  {
   "cell_type": "code",
   "execution_count": 118,
   "id": "a3cdf52b",
   "metadata": {},
   "outputs": [
    {
     "data": {
      "text/plain": [
       "0.6"
      ]
     },
     "execution_count": 118,
     "metadata": {},
     "output_type": "execute_result"
    }
   ],
   "source": [
    "best_estimators['random_forest'].score(X_test,y_test)"
   ]
  },
  {
   "cell_type": "code",
   "execution_count": 119,
   "id": "90c5fde4",
   "metadata": {},
   "outputs": [
    {
     "data": {
      "text/plain": [
       "0.8615384615384616"
      ]
     },
     "execution_count": 119,
     "metadata": {},
     "output_type": "execute_result"
    }
   ],
   "source": [
    "best_estimators['logistic_regression'].score(X_test,y_test)"
   ]
  },
  {
   "cell_type": "code",
   "execution_count": 120,
   "id": "945bf856",
   "metadata": {},
   "outputs": [],
   "source": [
    "best_clf = best_estimators['logistic_regression']"
   ]
  },
  {
   "cell_type": "code",
   "execution_count": 121,
   "id": "e4ad0736",
   "metadata": {},
   "outputs": [
    {
     "data": {
      "text/plain": [
       "array([[ 9,  0,  0,  0,  1],\n",
       "       [ 0, 11,  1,  0,  1],\n",
       "       [ 0,  0, 14,  0,  1],\n",
       "       [ 2,  1,  0, 12,  2],\n",
       "       [ 0,  0,  0,  0, 10]], dtype=int64)"
      ]
     },
     "execution_count": 121,
     "metadata": {},
     "output_type": "execute_result"
    }
   ],
   "source": [
    "from sklearn.metrics import confusion_matrix\n",
    "cm = confusion_matrix(y_test, best_clf.predict(X_test))\n",
    "cm"
   ]
  },
  {
   "cell_type": "code",
   "execution_count": 124,
   "id": "d38d7b40",
   "metadata": {},
   "outputs": [
    {
     "data": {
      "text/plain": [
       "Text(95.72222222222221, 0.5, 'Truth')"
      ]
     },
     "execution_count": 124,
     "metadata": {},
     "output_type": "execute_result"
    },
    {
     "data": {
      "image/png": "[encoded data removed]",
      "text/plain": [
       "<Figure size 1000x700 with 2 Axes>"
      ]
     },
     "metadata": {},
     "output_type": "display_data"
    }
   ],
   "source": [
    "import matplotlib.pyplot as plt\n",
    "import seaborn as sn\n",
    "plt.figure(figsize = (10,7))\n",
    "sn.heatmap(cm, annot=True)\n",
    "plt.xlabel('Predicted')\n",
    "plt.ylabel('Truth')"
   ]
  },
  {
   "cell_type": "code",
   "execution_count": 125,
   "id": "974512f9",
   "metadata": {
    "scrolled": true
   },
   "outputs": [
    {
     "data": {
      "text/plain": [
       "{'andreas_christensen': 0,\n",
       " 'jules_kounde': 1,\n",
       " 'marc_andre_ter_stegen': 2,\n",
       " 'robert_lewandowski': 3,\n",
       " 'sergio_busquets': 4}"
      ]
     },
     "execution_count": 125,
     "metadata": {},
     "output_type": "execute_result"
    }
   ],
   "source": [
    "class_dict"
   ]
  },
  {
   "cell_type": "code",
   "execution_count": 126,
   "id": "e35e95ca",
   "metadata": {},
   "outputs": [
    {
     "name": "stdout",
     "output_type": "stream",
     "text": [
      "Requirement already satisfied: joblib in c:\\users\\user\\anaconda3\\envs\\imgclassification\\lib\\site-packages (1.2.0)\n"
     ]
    },
    {
     "data": {
      "text/plain": [
       "['saved_model.pkl']"
      ]
     },
     "execution_count": 126,
     "metadata": {},
     "output_type": "execute_result"
    }
   ],
   "source": [
    "!pip install joblib\n",
    "import joblib \n",
    "# Save the model as a pickle in a file \n",
    "joblib.dump(best_clf, 'saved_model.pkl') "
   ]
  },
  {
   "cell_type": "code",
   "execution_count": 127,
   "id": "3ff7120b",
   "metadata": {},
   "outputs": [],
   "source": [
    "import json\n",
    "with open(\"class_dictionary.json\",\"w\") as f:\n",
    "    f.write(json.dumps(class_dict))"
   ]
  },
  {
   "cell_type": "code",
   "execution_count": null,
   "id": "4e217275",
   "metadata": {},
   "outputs": [],
   "source": []
  },
  {
   "cell_type": "code",
   "execution_count": null,
   "id": "6e24b32d",
   "metadata": {},
   "outputs": [],
   "source": []
  }
 ],
 "metadata": {
  "kernelspec": {
   "display_name": "Python 3 (ipykernel)",
   "language": "python",
   "name": "python3"
  },
  "language_info": {
   "codemirror_mode": {
    "name": "ipython",
    "version": 3
   },
   "file_extension": ".py",
   "mimetype": "text/x-python",
   "name": "python",
   "nbconvert_exporter": "python",
   "pygments_lexer": "ipython3",
   "version": "3.9.12"
  }
 },
 "nbformat": 4,
 "nbformat_minor": 5
}
